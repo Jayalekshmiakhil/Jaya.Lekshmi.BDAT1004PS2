{
 "cells": [
  {
   "cell_type": "markdown",
   "id": "39cdcc11",
   "metadata": {},
   "source": [
    "QN 1"
   ]
  },
  {
   "cell_type": "code",
   "execution_count": 6,
   "id": "6a7d7c15",
   "metadata": {},
   "outputs": [
    {
     "data": {
      "text/plain": [
       "6"
      ]
     },
     "execution_count": 6,
     "metadata": {},
     "output_type": "execute_result"
    }
   ],
   "source": [
    "a = 0\n",
    "def b():\n",
    "    global a\n",
    "    a = c(a)\n",
    "def c(a):\n",
    "    return a + 2 \n",
    "b()\n",
    "b()\n",
    "b()\n",
    "a"
   ]
  },
  {
   "cell_type": "markdown",
   "id": "0e85765a",
   "metadata": {},
   "source": [
    "Defined a variable a = 0\n",
    "To define the functions b and c , add intendations.\n",
    "Inside the b function, added the global a statement.\n",
    "Called the c function with value of a and made the global variable a with the result.\n",
    "Then, called the b function to demonstrate how it updates the value of a, it will update the value of a to 2 and repating the process 2 times.\n",
    "Finally, The value of a be 6."
   ]
  },
  {
   "cell_type": "markdown",
   "id": "1d4ddc7e",
   "metadata": {},
   "source": [
    "QN 2"
   ]
  },
  {
   "cell_type": "code",
   "execution_count": 11,
   "id": "01d7016d",
   "metadata": {},
   "outputs": [
    {
     "ename": "SyntaxError",
     "evalue": "invalid syntax (938236030.py, line 7)",
     "output_type": "error",
     "traceback": [
      "\u001b[1;36m  Cell \u001b[1;32mIn[11], line 7\u001b[1;36m\u001b[0m\n\u001b[1;33m    except FileNotFoundError:\u001b[0m\n\u001b[1;37m    ^\u001b[0m\n\u001b[1;31mSyntaxError\u001b[0m\u001b[1;31m:\u001b[0m invalid syntax\n"
     ]
    }
   ],
   "source": [
    "def fileLength(filename):\n",
    "        infile = open(filename, 'r')\n",
    "        contents = infile.read()\n",
    "        infile.close()\n",
    "        length = len(contents)\n",
    "        return length\n",
    "     except FileNotFoundError:\n",
    "        return f\"File {filename} not found.\"\n",
    "Result1 = fileLength('midterm.py')\n",
    "Result2 = fileLength('idterm.py')\n",
    "print(Result1)  \n",
    "print(Result2)  "
   ]
  },
  {
   "cell_type": "markdown",
   "id": "49ada7de",
   "metadata": {},
   "source": [
    "QN 3"
   ]
  },
  {
   "cell_type": "code",
   "execution_count": 12,
   "id": "b572c350",
   "metadata": {},
   "outputs": [
    {
     "name": "stdout",
     "output_type": "stream",
     "text": [
      "['doll', 'firetruck', 'kitten']\n",
      "I am a Kangaroo located at coordinates (0,0)\n",
      "['doll', 'firetruck', 'kitten']\n",
      "I am a Kangaroo located at coordinates (3,0)\n"
     ]
    }
   ],
   "source": [
    "class Marsupial:\n",
    "    def __init__(self):\n",
    "        self.pouch = []\n",
    "    def put_in_pouch(self, item):\n",
    "        self.pouch.append(item)\n",
    "    def pouch_contents(self):\n",
    "        return self.pouch\n",
    "class Kangaroo(Marsupial):\n",
    "    def __init__(self, x, y):\n",
    "        super().__init__()\n",
    "        self.x = x\n",
    "        self.y = y\n",
    "    def jump(self, dx, dy):\n",
    "        self.x += dx\n",
    "        self.y += dy\n",
    "    def __str__(self):\n",
    "        return f\"I am a Kangaroo located at coordinates ({self.x},{self.y})\"\n",
    "m = Marsupial()\n",
    "m.put_in_pouch('doll')\n",
    "m.put_in_pouch('firetruck')\n",
    "m.put_in_pouch('kitten')\n",
    "print(m.pouch_contents())  \n",
    "k = Kangaroo(0, 0)\n",
    "print(k)  \n",
    "k.put_in_pouch('doll')\n",
    "k.put_in_pouch('firetruck')\n",
    "k.put_in_pouch('kitten')\n",
    "print(k.pouch_contents())  \n",
    "k.jump(1, 0)\n",
    "k.jump(1, 0)\n",
    "k.jump(1, 0)\n",
    "print(k)  "
   ]
  },
  {
   "cell_type": "markdown",
   "id": "1af941f7",
   "metadata": {},
   "source": [
    "QN 4"
   ]
  },
  {
   "cell_type": "code",
   "execution_count": 13,
   "id": "0d6b8f5c",
   "metadata": {},
   "outputs": [
    {
     "name": "stdout",
     "output_type": "stream",
     "text": [
      "1\n",
      "10\n",
      "5\n",
      "16\n",
      "8\n",
      "4\n",
      "2\n",
      "1\n"
     ]
    }
   ],
   "source": [
    "def collatz(x):\n",
    "    print(x)\n",
    "    if x == 1:\n",
    "        return\n",
    "    if x % 2 == 0:\n",
    "        collatz(x // 2)\n",
    "    else:\n",
    "        collatz(3 * x + 1)\n",
    "collatz(1)   \n",
    "collatz(10)  "
   ]
  },
  {
   "cell_type": "markdown",
   "id": "f0191a59",
   "metadata": {},
   "source": [
    "QN 5"
   ]
  },
  {
   "cell_type": "code",
   "execution_count": 14,
   "id": "a1edb718",
   "metadata": {},
   "outputs": [
    {
     "name": "stdout",
     "output_type": "stream",
     "text": [
      "0\n",
      "1\n",
      "1\n",
      "11\n",
      "001"
     ]
    }
   ],
   "source": [
    "def binary(n):\n",
    "    if n == 0:\n",
    "        print(0)\n",
    "    elif n == 1:\n",
    "        print(1)\n",
    "    else:\n",
    "        binary(n // 2)  \n",
    "        print(n % 2, end='')\n",
    "binary(0)  \n",
    "binary(1)  \n",
    "binary(3)  \n",
    "binary(9)  \n"
   ]
  },
  {
   "cell_type": "markdown",
   "id": "6d8f0038",
   "metadata": {},
   "source": [
    "QN 8"
   ]
  },
  {
   "cell_type": "code",
   "execution_count": 17,
   "id": "ca3622d1",
   "metadata": {},
   "outputs": [
    {
     "ename": "SyntaxError",
     "evalue": "invalid syntax (3273456193.py, line 1)",
     "output_type": "error",
     "traceback": [
      "\u001b[1;36m  Cell \u001b[1;32mIn[17], line 1\u001b[1;36m\u001b[0m\n\u001b[1;33m    SELECT temperature FROM weather_data;\u001b[0m\n\u001b[1;37m           ^\u001b[0m\n\u001b[1;31mSyntaxError\u001b[0m\u001b[1;31m:\u001b[0m invalid syntax\n"
     ]
    }
   ],
   "source": [
    "SELECT temperature FROM weather_data;\n",
    "SELECT DISTINCT city FROM weather_data;\n",
    "SELECT * FROM weather_data WHERE country = 'India';\n",
    "SELECT * FROM weather_data WHERE season = 'Fall';\n",
    "SELECT city, country, season\n",
    "FROM weather_data\n",
    "GROUP BY city, country, season\n",
    "HAVING AVG(rainfall) BETWEEN 200 AND 400;\n",
    "SELECT city, country\n",
    "FROM weather_data\n",
    "WHERE season = 'Fall'\n",
    "GROUP BY city, country\n",
    "HAVING AVG(temperature) > 20\n",
    "ORDER BY AVG(temperature) ASC;\n",
    "SELECT SUM(rainfall) AS total_rainfall\n",
    "FROM weather_data\n",
    "WHERE city = 'Cairo';\n",
    "SELECT season, SUM(rainfall) AS total_rainfall\n",
    "FROM weather_data\n",
    "GROUP BY season;\n",
    "has context menu\n",
    "Compose"
   ]
  },
  {
   "cell_type": "markdown",
   "id": "98567c1a",
   "metadata": {},
   "source": [
    "QN 9"
   ]
  },
  {
   "cell_type": "code",
   "execution_count": 18,
   "id": "af58a95d",
   "metadata": {},
   "outputs": [
    {
     "name": "stdout",
     "output_type": "stream",
     "text": [
      "['THE', 'QUICK', 'BROWN', 'FOX', 'JUMPS', 'OVER', 'THE', 'LAZY', 'DOG']\n",
      "['the', 'quick', 'brown', 'fox', 'jumps', 'over', 'the', 'lazy', 'dog']\n",
      "[3, 5, 5, 3, 5, 4, 3, 4, 3]\n",
      "[['THE', 'the', 3], ['QUICK', 'quick', 5], ['BROWN', 'brown', 5], ['FOX', 'fox', 3], ['JUMPS', 'jumps', 5], ['OVER', 'over', 4], ['THE', 'the', 3], ['LAZY', 'lazy', 4], ['DOG', 'dog', 3]]\n",
      "['quick', 'brown', 'jumps', 'over', 'lazy']\n"
     ]
    }
   ],
   "source": [
    "word_List = ['The', 'quick', 'brown', 'fox', 'jumps', 'over', 'the', 'lazy', 'dog']\n",
    "uppercase_words = [word.upper() for word in word_List]\n",
    " \n",
    "lowercase_info = [word.lower() for word in uppercase_words]\n",
    "wordLength=[len(word) for word in word_List]\n",
    " \n",
    "mixed_list = [[word.upper(), word.lower(), len(word)] for word in word_List]\n",
    "filtered_words = [word for word in word_List if len(word) >= 4]\n",
    "print(uppercase_words)\n",
    "print(lowercase_info)\n",
    "print(wordLength)\n",
    "print(mixed_list)\n",
    "print(filtered_words)"
   ]
  },
  {
   "cell_type": "code",
   "execution_count": null,
   "id": "280e5418",
   "metadata": {},
   "outputs": [],
   "source": []
  }
 ],
 "metadata": {
  "kernelspec": {
   "display_name": "Python 3 (ipykernel)",
   "language": "python",
   "name": "python3"
  },
  "language_info": {
   "codemirror_mode": {
    "name": "ipython",
    "version": 3
   },
   "file_extension": ".py",
   "mimetype": "text/x-python",
   "name": "python",
   "nbconvert_exporter": "python",
   "pygments_lexer": "ipython3",
   "version": "3.11.4"
  }
 },
 "nbformat": 4,
 "nbformat_minor": 5
}
